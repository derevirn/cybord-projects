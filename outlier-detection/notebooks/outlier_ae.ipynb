{
 "cells": [
  {
   "cell_type": "code",
   "execution_count": 1,
   "metadata": {},
   "outputs": [
    {
     "name": "stderr",
     "output_type": "stream",
     "text": [
      "ERROR:fbprophet:Importing plotly failed. Interactive plots will not work.\n"
     ]
    }
   ],
   "source": [
    "import pandas as pd\n",
    "import numpy as np\n",
    "from collections import Counter\n",
    "import matplotlib.pyplot as plt\n",
    "from PIL import Image\n",
    "import glob\n",
    "import os\n",
    "from sklearn.model_selection import train_test_split\n",
    "import tensorflow as tf\n",
    "from tensorflow.keras.layers import Conv2D, Conv2DTranspose, UpSampling2D,\\\n",
    "    Dense, Layer, Reshape, InputLayer, Flatten, Input, MaxPooling2D\n",
    "from alibi_detect.od import OutlierAE\n",
    "from alibi_detect.utils.visualize import plot_instance_score, plot_feature_outlier_image"
   ]
  },
  {
   "cell_type": "code",
   "execution_count": 2,
   "metadata": {},
   "outputs": [
    {
     "name": "stdout",
     "output_type": "stream",
     "text": [
      "(239, 64, 64, 3)\n"
     ]
    }
   ],
   "source": [
    "def img_to_np(path, resize = True):  \n",
    "    img_array = []\n",
    "    fpaths = glob.glob(path)\n",
    "    for fname in fpaths:\n",
    "        img = Image.open(fname).convert(\"RGB\")\n",
    "        if(resize): img = img.resize((64,64))\n",
    "        img_array.append(np.asarray(img))\n",
    "    images = np.array(img_array)\n",
    "    return images\n",
    "\n",
    "path = \"D:\\\\cybord\\\\img\\\\capsule\\\\*.*\"\n",
    "train = img_to_np(path)\n",
    "train = train.astype('float32') / 255.\n",
    "#test = test.astype('float32') / 255.\n",
    "\n",
    "print(train.shape)"
   ]
  },
  {
   "cell_type": "code",
   "execution_count": 4,
   "metadata": {},
   "outputs": [
    {
     "name": "stdout",
     "output_type": "stream",
     "text": [
      "4/4 [=] - 1s 204ms/step - loss: 0.0936\n",
      "4/4 [=] - 0s 42ms/step - loss: 0.0934\n",
      "4/4 [=] - 0s 42ms/step - loss: 0.0930\n",
      "4/4 [=] - 0s 44ms/step - loss: 0.0923\n",
      "4/4 [=] - 0s 43ms/step - loss: 0.0886\n",
      "4/4 [=] - 0s 43ms/step - loss: 0.0720\n",
      "4/4 [=] - 0s 42ms/step - loss: 0.0437\n",
      "4/4 [=] - 0s 43ms/step - loss: 0.0374\n",
      "4/4 [=] - 0s 42ms/step - loss: 0.0295\n",
      "4/4 [=] - 0s 43ms/step - loss: 0.0250\n",
      "4/4 [=] - 0s 43ms/step - loss: 0.0194\n",
      "4/4 [=] - 0s 43ms/step - loss: 0.0137\n",
      "4/4 [=] - 0s 51ms/step - loss: 0.0098\n",
      "4/4 [=] - 0s 43ms/step - loss: 0.0065\n",
      "4/4 [=] - 0s 42ms/step - loss: 0.0046\n",
      "4/4 [=] - 0s 42ms/step - loss: 0.0036\n",
      "4/4 [=] - 0s 42ms/step - loss: 0.0029\n",
      "4/4 [=] - 0s 43ms/step - loss: 0.0024\n",
      "4/4 [=] - 0s 42ms/step - loss: 0.0021\n",
      "4/4 [=] - 0s 43ms/step - loss: 0.0018\n",
      "4/4 [=] - 0s 44ms/step - loss: 0.0016\n",
      "4/4 [=] - 0s 42ms/step - loss: 0.0014\n",
      "4/4 [=] - 0s 43ms/step - loss: 0.0013\n",
      "4/4 [=] - 0s 42ms/step - loss: 0.0012\n",
      "4/4 [=] - 0s 47ms/step - loss: 0.0011\n",
      "4/4 [=] - 0s 51ms/step - loss: 0.0010\n",
      "4/4 [=] - 0s 51ms/step - loss: 0.0010\n",
      "4/4 [=] - 0s 52ms/step - loss: 9.4644e-04\n",
      "4/4 [=] - 0s 49ms/step - loss: 9.1058e-04\n",
      "4/4 [=] - 0s 50ms/step - loss: 8.6575e-04\n",
      "4/4 [=] - 0s 52ms/step - loss: 8.5338e-04\n",
      "4/4 [=] - 0s 47ms/step - loss: 8.3318e-04\n",
      "4/4 [=] - 0s 52ms/step - loss: 8.0437e-04\n",
      "4/4 [=] - 0s 50ms/step - loss: 7.8291e-04\n",
      "4/4 [=] - 0s 51ms/step - loss: 7.6714e-04\n",
      "4/4 [=] - 0s 54ms/step - loss: 7.3257e-04\n",
      "4/4 [=] - 0s 49ms/step - loss: 7.2651e-04\n",
      "4/4 [=] - 0s 53ms/step - loss: 7.1585e-04\n",
      "4/4 [=] - 0s 43ms/step - loss: 7.0533e-04\n",
      "4/4 [=] - 0s 42ms/step - loss: 6.9165e-04\n",
      "4/4 [=] - 0s 42ms/step - loss: 6.8514e-04\n",
      "4/4 [=] - 0s 42ms/step - loss: 6.7183e-04\n",
      "4/4 [=] - 0s 41ms/step - loss: 6.6014e-04\n",
      "4/4 [=] - 0s 42ms/step - loss: 6.5968e-04\n",
      "4/4 [=] - 0s 41ms/step - loss: 6.5399e-04\n",
      "4/4 [=] - 0s 41ms/step - loss: 6.5109e-04\n",
      "4/4 [=] - 0s 41ms/step - loss: 6.6092e-04\n",
      "4/4 [=] - 0s 42ms/step - loss: 6.4402e-04\n",
      "4/4 [=] - 0s 42ms/step - loss: 6.3172e-04\n",
      "4/4 [=] - 0s 42ms/step - loss: 6.2364e-04\n",
      "4/4 [=] - 0s 42ms/step - loss: 6.3638e-04\n",
      "4/4 [=] - 0s 42ms/step - loss: 6.3475e-04\n",
      "4/4 [=] - 0s 42ms/step - loss: 6.3106e-04\n",
      "4/4 [=] - 0s 42ms/step - loss: 6.2455e-04\n",
      "4/4 [=] - 0s 42ms/step - loss: 6.1159e-04\n",
      "4/4 [=] - 0s 42ms/step - loss: 6.1173e-04\n",
      "4/4 [=] - 0s 42ms/step - loss: 6.1252e-04\n",
      "4/4 [=] - 0s 41ms/step - loss: 6.0879e-04\n",
      "4/4 [=] - 0s 41ms/step - loss: 6.2156e-04\n",
      "4/4 [=] - 0s 44ms/step - loss: 6.1940e-04\n",
      "4/4 [=] - 0s 43ms/step - loss: 6.0299e-04\n",
      "4/4 [=] - 0s 41ms/step - loss: 5.9260e-04\n",
      "4/4 [=] - 0s 41ms/step - loss: 5.9547e-04\n",
      "4/4 [=] - 0s 42ms/step - loss: 5.9516e-04\n",
      "4/4 [=] - 0s 42ms/step - loss: 5.9766e-04\n",
      "4/4 [=] - 0s 42ms/step - loss: 6.0543e-04\n",
      "4/4 [=] - 0s 42ms/step - loss: 5.9502e-04\n",
      "4/4 [=] - 0s 42ms/step - loss: 5.9497e-04\n",
      "4/4 [=] - 0s 41ms/step - loss: 5.9593e-04\n",
      "4/4 [=] - 0s 42ms/step - loss: 5.9525e-04\n",
      "4/4 [=] - 0s 42ms/step - loss: 5.9473e-04\n",
      "4/4 [=] - 0s 43ms/step - loss: 5.8425e-04\n",
      "4/4 [=] - 0s 43ms/step - loss: 5.9268e-04\n",
      "4/4 [=] - 0s 42ms/step - loss: 5.8258e-04\n",
      "4/4 [=] - 0s 42ms/step - loss: 5.8674e-04\n",
      "4/4 [=] - 0s 42ms/step - loss: 5.9351e-04\n",
      "4/4 [=] - 0s 42ms/step - loss: 5.8261e-04\n",
      "4/4 [=] - 0s 42ms/step - loss: 5.7230e-04\n",
      "4/4 [=] - 0s 42ms/step - loss: 5.7853e-04\n",
      "4/4 [=] - 0s 42ms/step - loss: 5.8417e-04\n",
      "4/4 [=] - 0s 42ms/step - loss: 5.7431e-04\n",
      "4/4 [=] - 0s 41ms/step - loss: 5.7993e-04\n",
      "4/4 [=] - 0s 41ms/step - loss: 5.8415e-04\n",
      "4/4 [=] - 0s 41ms/step - loss: 5.7222e-04\n",
      "4/4 [=] - 0s 42ms/step - loss: 5.8753e-04\n",
      "4/4 [=] - 0s 42ms/step - loss: 5.7192e-04\n",
      "4/4 [=] - 0s 41ms/step - loss: 5.7625e-04\n",
      "4/4 [=] - 0s 42ms/step - loss: 5.6748e-04\n",
      "4/4 [=] - 0s 42ms/step - loss: 5.6954e-04\n",
      "4/4 [=] - 0s 41ms/step - loss: 5.8126e-04\n",
      "4/4 [=] - 0s 41ms/step - loss: 5.7355e-04\n",
      "4/4 [=] - 0s 42ms/step - loss: 5.8766e-04\n",
      "4/4 [=] - 0s 42ms/step - loss: 5.7292e-04\n",
      "4/4 [=] - 0s 42ms/step - loss: 5.7647e-04\n",
      "4/4 [=] - 0s 42ms/step - loss: 5.7927e-04\n",
      "4/4 [=] - 0s 42ms/step - loss: 5.8843e-04\n",
      "4/4 [=] - 0s 42ms/step - loss: 5.7132e-04\n",
      "4/4 [=] - 0s 42ms/step - loss: 6.0041e-04\n",
      "4/4 [=] - 0s 41ms/step - loss: 5.7855e-04\n",
      "4/4 [=] - 0s 41ms/step - loss: 5.8926e-04\n"
     ]
    }
   ],
   "source": [
    "encoding_dim = 1024\n",
    "\n",
    "encoder_net = tf.keras.Sequential(\n",
    "  [\n",
    "      InputLayer(input_shape=train[0].shape),\n",
    "      Conv2D(64, 4, strides=2, padding='same', activation=tf.nn.relu),\n",
    "      Conv2D(128, 4, strides=2, padding='same', activation=tf.nn.relu),\n",
    "      Conv2D(512, 4, strides=2, padding='same', activation=tf.nn.relu),\n",
    "      Flatten(),\n",
    "      Dense(encoding_dim,)\n",
    "  ])\n",
    "\n",
    "decoder_net = tf.keras.Sequential(\n",
    "  [\n",
    "      InputLayer(input_shape=(encoding_dim,)),\n",
    "      Dense(8*8*128),\n",
    "      Reshape(target_shape=(8, 8, 128)),\n",
    "      Conv2DTranspose(256, 4, strides=2, padding='same', activation=tf.nn.relu),\n",
    "      Conv2DTranspose(64, 4, strides=2, padding='same', activation=tf.nn.relu),\n",
    "      Conv2DTranspose(3, 4, strides=2, padding='same', activation='sigmoid')\n",
    "  ])\n",
    "\n",
    "\n",
    "# initialize outlier detector\n",
    "od = OutlierAE( threshold = 0.001,\n",
    "                encoder_net=encoder_net,\n",
    "                decoder_net=decoder_net,)\n",
    "\n",
    "adam = tf.keras.optimizers.Adam(lr=1e-4)\n",
    "\n",
    "# train\n",
    "od.fit(train, epochs=100, verbose=True,\n",
    "       optimizer = adam)\n",
    "\n",
    "#decoder_net.summary()"
   ]
  },
  {
   "cell_type": "code",
   "execution_count": 5,
   "metadata": {},
   "outputs": [
    {
     "data": {
      "image/png": "[encoded data removed]",
      "text/plain": [
       "<Figure size 432x288 with 1 Axes>"
      ]
     },
     "metadata": {
      "needs_background": "light"
     },
     "output_type": "display_data"
    },
    {
     "data": {
      "text/plain": [
       "Counter({0: 199, 1: 40})"
      ]
     },
     "execution_count": 5,
     "metadata": {},
     "output_type": "execute_result"
    }
   ],
   "source": [
    "preds = od.predict(train, outlier_type='instance',\n",
    "            return_instance_score=True,\n",
    "            return_feature_score=True)\n",
    "\n",
    "target = np.zeros(train.shape[0],).astype(int)\n",
    "labels = ['normal', 'outlier']\n",
    "plot_instance_score(preds, target, labels, od.threshold)\n",
    "\n",
    "Counter(preds['data']['is_outlier'])"
   ]
  },
  {
   "cell_type": "code",
   "execution_count": null,
   "metadata": {},
   "outputs": [],
   "source": []
  },
  {
   "cell_type": "code",
   "execution_count": null,
   "metadata": {},
   "outputs": [],
   "source": [
    "import seaborn as sns\n",
    "\n",
    "plt.figure(figsize=(12,8))\n",
    "sns.displot(data=preds['data'], x='instance_score', kde=True, height=9)\n",
    "plt.title('Instance Score Histogram')\n",
    "plt.ylabel('Frequency')\n",
    "plt.show()\n",
    "\n",
    "thresh = od.threshold\n",
    "print(\"threshold:\", thresh)"
   ]
  },
  {
   "cell_type": "code",
   "execution_count": null,
   "metadata": {},
   "outputs": [],
   "source": [
    "print('99th percentile:', np.percentile(preds['data']['instance_score'], 90))"
   ]
  },
  {
   "cell_type": "code",
   "execution_count": null,
   "metadata": {},
   "outputs": [],
   "source": [
    "fpaths = glob.glob('img/*.*')\n",
    "for fname in fpaths:\n",
    "    os.remove(fname)\n",
    "\n",
    "img_full = img_to_np(path, resize=False)\n",
    "\n",
    "for i, pred in enumerate(preds['data']['is_outlier']):\n",
    "    if(pred == 1):\n",
    "        #plt.imshow(img_full[i])\n",
    "        #plt.savefig(\"img/\" + str(i) + \".jpg\")\n",
    "        img = Image.fromarray(img_full[i])\n",
    "        img = img.save(\"img/\" + str(i) + \".jpg\")"
   ]
  },
  {
   "cell_type": "code",
   "execution_count": null,
   "metadata": {},
   "outputs": [],
   "source": [
    "recon = od.ae(train).numpy()\n",
    "\n",
    "plot_feature_outlier_image(preds, train, \n",
    "                           X_recon=recon,  \n",
    "                           max_instances=5,\n",
    "                           outliers_only=True,\n",
    "                           figsize=(20,20))"
   ]
  },
  {
   "cell_type": "code",
   "execution_count": null,
   "metadata": {},
   "outputs": [],
   "source": []
  }
 ],
 "metadata": {
  "kernelspec": {
   "display_name": "Python 3",
   "language": "python",
   "name": "python3"
  },
  "language_info": {
   "codemirror_mode": {
    "name": "ipython",
    "version": 3
   },
   "file_extension": ".py",
   "mimetype": "text/x-python",
   "name": "python",
   "nbconvert_exporter": "python",
   "pygments_lexer": "ipython3",
   "version": "3.7.7"
  }
 },
 "nbformat": 4,
 "nbformat_minor": 4
}
