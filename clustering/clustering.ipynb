{
 "cells": [
  {
   "cell_type": "code",
   "execution_count": 8,
   "metadata": {},
   "outputs": [],
   "source": [
    "import os, glob\n",
    "import numpy as np\n",
    "from collections import Counter\n",
    "import matplotlib.pyplot as plt\n",
    "from tensorflow import keras\n",
    "from tensorflow.keras.preprocessing import image\n",
    "from tensorflow.keras.applications.efficientnet import EfficientNetB4, EfficientNetB7, preprocess_input\n",
    "from sklearn.cluster import KMeans, MiniBatchKMeans\n",
    "from sklearn.metrics import silhouette_score\n"
   ]
  },
  {
   "cell_type": "code",
   "execution_count": 9,
   "metadata": {},
   "outputs": [],
   "source": [
    "#model = EfficientNetB4(weights='imagenet', include_top=False)\n",
    "\n",
    "file = open('CAP_0603\\CAP_0603.json', 'r')\n",
    "json = file.read()\n",
    "file.close()\n",
    "model = keras.models.model_from_json(json)\n",
    "model.load_weights('CAP_0603\\CAP_0603.h5') \n"
   ]
  },
  {
   "cell_type": "code",
   "execution_count": 10,
   "metadata": {},
   "outputs": [],
   "source": [
    "feature_list = []\n",
    "paths = glob.glob('test-3\\*')\n",
    "\n",
    "for i, path in enumerate(paths):\n",
    "    img = image.load_img(path, target_size=(256, 256))\n",
    "    image_data = image.img_to_array(img)\n",
    "    image_data = np.expand_dims(image_data, axis=0)\n",
    "    #image_data = preprocess_input(image_data)\n",
    "    feature = np.array(model.predict(image_data))\n",
    "    feature_list.append(feature.flatten())\n",
    "    "
   ]
  },
  {
   "cell_type": "code",
   "execution_count": 11,
   "metadata": {},
   "outputs": [],
   "source": [
    "sil = []\n",
    "kl = []\n",
    "kmax = 10\n",
    "\n",
    "pred_images = np.array(feature_list)\n",
    "\n",
    "for k in range(2, kmax+1):\n",
    "    kmeans2 = MiniBatchKMeans(n_clusters = k, verbose = 0).fit(pred_images)\n",
    "    labels = kmeans2.labels_\n",
    "    sil.append(silhouette_score(pred_images, labels, metric = 'euclidean'))\n",
    "    kl.append(k)\n"
   ]
  },
  {
   "cell_type": "code",
   "execution_count": 12,
   "metadata": {},
   "outputs": [
    {
     "data": {
      "image/png": "[encoded data removed]",
      "text/plain": [
       "<Figure size 432x288 with 1 Axes>"
      ]
     },
     "metadata": {
      "needs_background": "light"
     },
     "output_type": "display_data"
    }
   ],
   "source": [
    "plt.plot(kl, sil)\n",
    "plt.ylabel('Silhoutte Score')\n",
    "plt.ylabel('K')\n",
    "plt.show()"
   ]
  },
  {
   "cell_type": "code",
   "execution_count": 13,
   "metadata": {},
   "outputs": [
    {
     "data": {
      "text/plain": [
       "Counter({1: 176, 0: 3824})"
      ]
     },
     "execution_count": 13,
     "metadata": {},
     "output_type": "execute_result"
    }
   ],
   "source": [
    "kmeans = MiniBatchKMeans(n_clusters = 2, verbose = 0).fit(pred_images)\n",
    "labels = kmeans.labels_\n",
    "\n",
    "Counter(np.array(labels))"
   ]
  },
  {
   "cell_type": "code",
   "execution_count": 14,
   "metadata": {},
   "outputs": [
    {
     "data": {
      "text/plain": [
       "[0.92499644,\n",
       " 0.8795658,\n",
       " 0.83526087,\n",
       " 0.8209013,\n",
       " 0.64031214,\n",
       " 0.7899145,\n",
       " 0.48618472,\n",
       " 0.7231045,\n",
       " 0.49989742]"
      ]
     },
     "execution_count": 14,
     "metadata": {},
     "output_type": "execute_result"
    }
   ],
   "source": [
    "sil"
   ]
  },
  {
   "cell_type": "code",
   "execution_count": null,
   "metadata": {},
   "outputs": [],
   "source": []
  }
 ],
 "metadata": {
  "kernelspec": {
   "display_name": "Python 3",
   "language": "python",
   "name": "python3"
  },
  "language_info": {
   "codemirror_mode": {
    "name": "ipython",
    "version": 3
   },
   "file_extension": ".py",
   "mimetype": "text/x-python",
   "name": "python",
   "nbconvert_exporter": "python",
   "pygments_lexer": "ipython3",
   "version": "3.7.7"
  }
 },
 "nbformat": 4,
 "nbformat_minor": 4
}
